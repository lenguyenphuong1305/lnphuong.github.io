{
 "cells": [
  {
   "cell_type": "code",
   "execution_count": 1,
   "metadata": {},
   "outputs": [],
   "source": [
    "import pandas as pd \n",
    "import xlrd #thu vien ho tro doc file excel tren window\n",
    "import numpy as np\n",
    "from sklearn.model_selection import train_test_split\n",
    "from sklearn import datasets, linear_model\n",
    "from sklearn import preprocessing\n",
    "import pickle #luu model sau khi train xong\n",
    "from sklearn.metrics import mean_squared_error, r2_score"
   ]
  },
  {
   "cell_type": "code",
   "execution_count": 2,
   "metadata": {},
   "outputs": [],
   "source": [
    "read_xls=pd.read_excel('tinhdiemtb.xlsx')\n",
    "val_xls=read_xls.values \n",
    "\n",
    "feature=np.array(val_xls[:,9:64],dtype=np.float32)\n",
    "label=np.array(val_xls[:,64:65],dtype=np.float32)"
   ]
  },
  {
   "cell_type": "code",
   "execution_count": 3,
   "metadata": {},
   "outputs": [],
   "source": [
    "x_train, x_test, y_train, y_test = train_test_split(feature, label, test_size=0.2)"
   ]
  },
  {
   "cell_type": "code",
   "execution_count": 4,
   "metadata": {},
   "outputs": [],
   "source": [
    "model=linear_model.LinearRegression()"
   ]
  },
  {
   "cell_type": "code",
   "execution_count": 5,
   "metadata": {},
   "outputs": [
    {
     "data": {
      "text/plain": [
       "LinearRegression(copy_X=True, fit_intercept=True, n_jobs=None, normalize=False)"
      ]
     },
     "execution_count": 5,
     "metadata": {},
     "output_type": "execute_result"
    }
   ],
   "source": [
    "model.fit(x_train, y_train)\n"
   ]
  },
  {
   "cell_type": "code",
   "execution_count": 6,
   "metadata": {},
   "outputs": [],
   "source": [
    "filename = 'mymodel.sav'\n",
    "pickle.dump(model, open(filename, 'wb'))"
   ]
  },
  {
   "cell_type": "code",
   "execution_count": 7,
   "metadata": {},
   "outputs": [],
   "source": [
    "new_model=linear_model.LinearRegression()\n",
    "filename = 'mymodel.sav'\n",
    "new_model=pickle.load(open(filename, 'rb'))"
   ]
  },
  {
   "cell_type": "code",
   "execution_count": 8,
   "metadata": {},
   "outputs": [
    {
     "name": "stdout",
     "output_type": "stream",
     "text": [
      "[2. 5. 5. 5. 4. 5. 5. 3. 3. 4. 4. 4. 4. 5. 5. 4. 5. 2. 2. 5. 3. 3. 1. 5.\n",
      " 2. 3. 5. 5. 5. 4. 5. 4. 4. 5. 4. 5. 4. 5. 4. 4. 5. 4. 5. 4. 4. 3. 5. 5.\n",
      " 3. 3. 4. 3. 5. 4. 5.]\n"
     ]
    }
   ],
   "source": [
    "arr=x_test[13]\n",
    "# arr[go 55 du lieu]\n",
    "print(arr)\n"
   ]
  },
  {
   "cell_type": "code",
   "execution_count": 9,
   "metadata": {},
   "outputs": [
    {
     "name": "stdout",
     "output_type": "stream",
     "text": [
      "[[2. 5. 5. 5. 4. 5. 5. 3. 3. 4. 4. 4. 4. 5. 5. 4. 5. 2. 2. 5. 3. 3. 1. 5.\n",
      "  2. 3. 5. 5. 5. 4. 5. 4. 4. 5. 4. 5. 4. 5. 4. 4. 5. 4. 5. 4. 4. 3. 5. 5.\n",
      "  3. 3. 4. 3. 5. 4. 5.]]\n"
     ]
    }
   ],
   "source": [
    "test=np.expand_dims(arr,axis=0)\n",
    "print(test)"
   ]
  },
  {
   "cell_type": "code",
   "execution_count": 10,
   "metadata": {},
   "outputs": [],
   "source": [
    "ketqua=model.predict(test)"
   ]
  },
  {
   "cell_type": "code",
   "execution_count": 11,
   "metadata": {},
   "outputs": [
    {
     "name": "stdout",
     "output_type": "stream",
     "text": [
      "cao\n"
     ]
    }
   ],
   "source": [
    "if (ketqua <= 2.1) :\n",
    "        print('rat thap')\n",
    "elif    (ketqua <= 2.8) :\n",
    "        print('thap')\n",
    "elif    (ketqua <= 3.5) :\n",
    "        print('trung binh')\n",
    "elif    (ketqua <= 4.2) :\n",
    "        print('cao')\n",
    "else:\n",
    "    print('rat cao')"
   ]
  },
  {
   "cell_type": "code",
   "execution_count": 12,
   "metadata": {},
   "outputs": [
    {
     "name": "stdout",
     "output_type": "stream",
     "text": [
      "[[4.0545473]]\n"
     ]
    }
   ],
   "source": [
    "print(ketqua)"
   ]
  },
  {
   "cell_type": "code",
   "execution_count": null,
   "metadata": {},
   "outputs": [],
   "source": []
  }
 ],
 "metadata": {
  "kernelspec": {
   "display_name": "Python 3",
   "language": "python",
   "name": "python3"
  },
  "language_info": {
   "codemirror_mode": {
    "name": "ipython",
    "version": 3
   },
   "file_extension": ".py",
   "mimetype": "text/x-python",
   "name": "python",
   "nbconvert_exporter": "python",
   "pygments_lexer": "ipython3",
   "version": "3.8.1"
  }
 },
 "nbformat": 4,
 "nbformat_minor": 4
}
